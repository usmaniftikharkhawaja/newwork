{
 "cells": [
  {
   "cell_type": "code",
   "execution_count": 5,
   "metadata": {},
   "outputs": [],
   "source": [
    "import requests\n",
    "from bs4 import BeautifulSoup\n",
    "import openpyxl\n",
    "\n",
    "url = 'https://www.find-postgraduate-teacher-training.service.gov.uk/results?applications_open=true&can_sponsor_visa=true&degree_required=two_two&l=2&page=3&qualification%5B%5D=pgce_with_qts&study_type%5B%5D=full_time&study_type%5B%5D=part_time&study_type%5B%5D=full_time_or_part_time&subjects%5B%5D=F3'\n",
    "response = requests.get(url)\n",
    "soup = BeautifulSoup(response.text, 'html.parser')\n",
    "\n",
    "universities = soup.find_all('a', {'class': 'result-title'})\n",
    "fees = []\n",
    "\n",
    "for university in universities:\n",
    "    link = university['href']\n",
    "    uni_response = requests.get(link)\n",
    "    uni_soup = BeautifulSoup(uni_response.text, 'html.parser')\n",
    "    fee = uni_soup.find('p', string='International student fees').find_next_sibling('p').text\n",
    "    fees.append(fee)\n",
    "\n",
    "wb = openpyxl.Workbook()\n",
    "sheet = wb['Sheet']\n",
    "\n",
    "for i in range(len(universities)):\n",
    "    sheet[f'A{i+1}'] = universities[i].text\n",
    "    sheet[f'B{i+1}'] = fees[i]\n",
    "\n",
    "wb.save('international_fees.xlsx')\n"
   ]
  },
  {
   "cell_type": "code",
   "execution_count": 12,
   "metadata": {},
   "outputs": [
    {
     "name": "stdout",
     "output_type": "stream",
     "text": [
      "Weather in New York\n",
      "Temperature: 32.2 °C\n",
      "Condition: Partly cloudy\n",
      "Humidity: 45 %\n",
      "Wind Speed: 3.6 kph\n",
      "Pressure: 1016.0 mb\n",
      "Visibility: 16.0 km\n"
     ]
    }
   ],
   "source": [
    "import requests\n",
    "\n",
    "api_key = \"3286a549d0d744d0a4c191214232807\"  # Replace this with your actual API key from WeatherAPI.com\n",
    "city = input(\"Enter the city name:\\n \").lower()\n",
    "\n",
    "url = f\"https://api.weatherapi.com/v1/current.json?key={api_key}&q={city}\"\n",
    "\n",
    "r = requests.get(url)\n",
    "data = r.json()\n",
    "\n",
    "if \"error\" in data:\n",
    "    print(\"Error:\", data[\"error\"][\"message\"])\n",
    "else:\n",
    "    print(\"Weather in\", data[\"location\"][\"name\"])\n",
    "    print(\"Temperature:\", data[\"current\"][\"temp_c\"], \"°C\")\n",
    "    print(\"Condition:\", data[\"current\"][\"condition\"][\"text\"])\n",
    "    print(\"Humidity:\", data[\"current\"][\"humidity\"], \"%\")\n",
    "    print(\"Wind Speed:\", data[\"current\"][\"wind_kph\"], \"kph\")\n",
    "    print(\"Pressure:\", data[\"current\"][\"pressure_mb\"], \"mb\")\n",
    "    print(\"Visibility:\", data[\"current\"][\"vis_km\"], \"km\")\n"
   ]
  },
  {
   "cell_type": "code",
   "execution_count": 13,
   "metadata": {},
   "outputs": [
    {
     "name": "stdout",
     "output_type": "stream",
     "text": [
      "{\"location\":{\"name\":\"Islamabad\",\"region\":\"Islamabad\",\"country\":\"Pakistan\",\"lat\":33.7,\"lon\":73.17,\"tz_id\":\"Asia/Karachi\",\"localtime_epoch\":1690572725,\"localtime\":\"2023-07-29 0:32\"},\"current\":{\"last_updated_epoch\":1690572600,\"last_updated\":\"2023-07-29 00:30\",\"temp_c\":26.0,\"temp_f\":78.8,\"is_day\":0,\"condition\":{\"text\":\"Patchy rain possible\",\"icon\":\"//cdn.weatherapi.com/weather/64x64/night/176.png\",\"code\":1063},\"wind_mph\":7.6,\"wind_kph\":12.2,\"wind_degree\":77,\"wind_dir\":\"ENE\",\"pressure_mb\":999.0,\"pressure_in\":29.5,\"precip_mm\":0.4,\"precip_in\":0.02,\"humidity\":76,\"cloud\":80,\"feelslike_c\":28.2,\"feelslike_f\":82.8,\"vis_km\":9.0,\"vis_miles\":5.0,\"uv\":1.0,\"gust_mph\":13.4,\"gust_kph\":21.6}}\n",
      "Weather in Islamabad. Temperature: 26.0°C. Condition: Patchy rain possible. Humidity: 76%. Wind Speed: 12.2 kph. Pressure: 999.0 mb. Visibility: 9.0 km.\n"
     ]
    }
   ],
   "source": [
    "import requests\n",
    "import json as js\n",
    "import pyttsx3\n",
    "\n",
    "def speak(text):\n",
    "    engine = pyttsx3.init()\n",
    "    engine.setProperty('rate', 150)  # You can adjust the speaking rate as needed\n",
    "    engine.say(text)\n",
    "    engine.runAndWait()\n",
    "\n",
    "city = input(\"Enter the city name:\\n \").lower()\n",
    "\n",
    "url = f\"https://api.weatherapi.com/v1/current.json?key=3286a549d0d744d0a4c191214232807&q={city}\"\n",
    "\n",
    "r = requests.get(url)\n",
    "print(r.text)\n",
    "\n",
    "wdic = js.loads(r.text)\n",
    "\n",
    "temperature = wdic[\"current\"][\"temp_c\"]\n",
    "condition = wdic[\"current\"][\"condition\"][\"text\"]\n",
    "humidity = wdic[\"current\"][\"humidity\"]\n",
    "wind_speed = wdic[\"current\"][\"wind_kph\"]\n",
    "pressure = wdic[\"current\"][\"pressure_mb\"]\n",
    "visibility = wdic[\"current\"][\"vis_km\"]\n",
    "\n",
    "weather_info = f\"Weather in {city.capitalize()}. \" \\\n",
    "               f\"Temperature: {temperature}°C. \" \\\n",
    "               f\"Condition: {condition}. \" \\\n",
    "               f\"Humidity: {humidity}%. \" \\\n",
    "               f\"Wind Speed: {wind_speed} kph. \" \\\n",
    "               f\"Pressure: {pressure} mb. \" \\\n",
    "               f\"Visibility: {visibility} km.\"\n",
    "\n",
    "print(weather_info)\n",
    "speak(weather_info)\n"
   ]
  }
 ],
 "metadata": {
  "kernelspec": {
   "display_name": "Python 3",
   "language": "python",
   "name": "python3"
  },
  "language_info": {
   "codemirror_mode": {
    "name": "ipython",
    "version": 3
   },
   "file_extension": ".py",
   "mimetype": "text/x-python",
   "name": "python",
   "nbconvert_exporter": "python",
   "pygments_lexer": "ipython3",
   "version": "3.10.2"
  },
  "orig_nbformat": 4
 },
 "nbformat": 4,
 "nbformat_minor": 2
}
