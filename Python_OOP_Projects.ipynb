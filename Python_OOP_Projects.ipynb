{
 "cells": [
  {
   "cell_type": "code",
   "execution_count": 28,
   "metadata": {},
   "outputs": [
    {
     "name": "stdout",
     "output_type": "stream",
     "text": [
      "Welcome to Robospeaker 1.1 created by Usman Iftikhar\n"
     ]
    }
   ],
   "source": [
    "import os\n",
    "import pyttsx3\n",
    "from gtts import gTTS\n",
    "\n",
    "\n",
    "\n",
    "if __name__=='__main__':\n",
    "\n",
    "    print(\"Welcome to Robospeaker 1.1 created by Usman Iftikhar\")\n",
    "\n",
    "    x= input(\"Enter what do you want to be spoken: \")\n",
    "\n",
    "     # Initialize the text-to-speech engine\n",
    "    engine = pyttsx3.init()\n",
    "\n",
    "\n",
    "    # Adjust the speech rate (words per minute)\n",
    "    rate = engine.getProperty('rate')\n",
    "    engine.setProperty('rate', rate -300)  # You can experiment with different values to find the right speed.\n",
    "\n",
    "    \n",
    "  # Speak the input phrase\n",
    "    engine.say(f\"{x} is a great guy\")\n",
    "\n",
    "    # Wait for the speech to complete\n",
    "    engine.runAndWait()"
   ]
  },
  {
   "cell_type": "code",
   "execution_count": 51,
   "metadata": {},
   "outputs": [
    {
     "name": "stdout",
     "output_type": "stream",
     "text": [
      "Welcome to Robospeaker 1.1 created by Usman Iftikhar\n"
     ]
    }
   ],
   "source": [
    "from gtts import gTTS\n",
    "import os\n",
    "import time\n",
    "\n",
    "if __name__ == '__main__':\n",
    "    print(\"Welcome to Robospeaker 1.1 created by Usman Iftikhar\")\n",
    "\n",
    "    while True:\n",
    "        x = input(\"Enter what do you want to be spoken or press q for quit: \")\n",
    "        if x ==\"q\":\n",
    "            break\n",
    "\n",
    "        # Adjust the speech rate (words per minute)\n",
    "        speed = 50  # You can experiment with different values to find the right speed.\n",
    "\n",
    "        # Create the gTTS object\n",
    "        tts = gTTS(text=f\"{x}\", lang='en', slow=False)\n",
    "\n",
    "        # Save the speech as a temporary audio file\n",
    "        tts.save('output.mp3')\n",
    "\n",
    "        # Play the audio file using the default system player\n",
    "        os.system('start output.mp3')\n",
    "\n",
    "        # Give some time for the audio to play\n",
    "        time.sleep(3)\n",
    "\n",
    "        # Remove the temporary file\n",
    "        os.remove('output.mp3')\n"
   ]
  }
 ],
 "metadata": {
  "kernelspec": {
   "display_name": "Python 3",
   "language": "python",
   "name": "python3"
  },
  "language_info": {
   "codemirror_mode": {
    "name": "ipython",
    "version": 3
   },
   "file_extension": ".py",
   "mimetype": "text/x-python",
   "name": "python",
   "nbconvert_exporter": "python",
   "pygments_lexer": "ipython3",
   "version": "3.10.2"
  },
  "orig_nbformat": 4
 },
 "nbformat": 4,
 "nbformat_minor": 2
}
